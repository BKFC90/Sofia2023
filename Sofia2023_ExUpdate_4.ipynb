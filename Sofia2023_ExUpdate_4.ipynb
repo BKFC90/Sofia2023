{
  "nbformat": 4,
  "nbformat_minor": 0,
  "metadata": {
    "colab": {
      "provenance": [],
      "mount_file_id": "1XjNq7xgjkk5uKNJxo1ymKYMVdUO6p0sA",
      "authorship_tag": "ABX9TyMmR1p0vPuvdWdSRP1c/+Hw",
      "include_colab_link": true
    },
    "kernelspec": {
      "name": "python3",
      "display_name": "Python 3"
    },
    "language_info": {
      "name": "python"
    }
  },
  "cells": [
    {
      "cell_type": "markdown",
      "metadata": {
        "id": "view-in-github",
        "colab_type": "text"
      },
      "source": [
        "<a href=\"https://colab.research.google.com/github/BKFC90/Sofia2023/blob/main/Sofia2023_ExUpdate_4.ipynb\" target=\"_parent\"><img src=\"https://colab.research.google.com/assets/colab-badge.svg\" alt=\"Open In Colab\"/></a>"
      ]
    },
    {
      "cell_type": "markdown",
      "source": [
        "This is the installation script for the class on LAMMPS.  It will\n",
        "\n",
        "\n",
        "*   Get the Examples folder from GitHub\n",
        "*   Get the LLAMPS source tree from GitHub\n",
        "*   Build LAMMPS\n",
        "*   Copy LAMMPS and the Examples to your Google Drive\n",
        "*   You can 'run' each cell individually, or all of   them via Runtime->Run All in the menu\n",
        "\n",
        "\n",
        "\n"
      ],
      "metadata": {
        "id": "4NG0HERNOLMe"
      }
    },
    {
      "cell_type": "markdown",
      "source": [
        "First mount your Google Drive"
      ],
      "metadata": {
        "id": "7Rf9rqtUQG49"
      }
    },
    {
      "cell_type": "code",
      "execution_count": null,
      "metadata": {
        "id": "X5XAsXh97x6v"
      },
      "outputs": [],
      "source": [
        "from google.colab import drive\n",
        "drive.mount('/content/drive/')"
      ]
    },
    {
      "cell_type": "markdown",
      "source": [
        "Get the Examples folder from GitHub"
      ],
      "metadata": {
        "id": "YbeJvWgiQNNh"
      }
    },
    {
      "cell_type": "code",
      "source": [
        "%cd /content\n",
        "!rm -rf Chrom2023\n",
        "!git clone https://github.com/BKFC90/Chrom2023"
      ],
      "metadata": {
        "id": "cGUH4XCA8K2Y"
      },
      "execution_count": null,
      "outputs": []
    },
    {
      "cell_type": "markdown",
      "source": [
        "Copy the package to Google Drive."
      ],
      "metadata": {
        "id": "ml56EDEIRl-O"
      }
    },
    {
      "cell_type": "code",
      "source": [
        "!rsync -auv /content/Chrom2023 /content/drive/MyDrive"
      ],
      "metadata": {
        "id": "2Hm3LnMTgu6x"
      },
      "execution_count": null,
      "outputs": []
    }
  ]
}
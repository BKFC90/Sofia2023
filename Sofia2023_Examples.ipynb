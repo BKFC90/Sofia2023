{
  "nbformat": 4,
  "nbformat_minor": 0,
  "metadata": {
    "colab": {
      "provenance": [],
      "collapsed_sections": [
        "sRLVu_iAOhHs",
        "bsEQiez7i8c1",
        "vifVlZLkjC_l",
        "o_uZgltgjLXE",
        "K4k_HxDGjclk"
      ],
      "toc_visible": true,
      "include_colab_link": true
    },
    "kernelspec": {
      "name": "python3",
      "display_name": "Python 3"
    },
    "language_info": {
      "name": "python"
    }
  },
  "cells": [
    {
      "cell_type": "markdown",
      "metadata": {
        "id": "view-in-github",
        "colab_type": "text"
      },
      "source": [
        "<a href=\"https://colab.research.google.com/github/BKFC90/Sofia2023/blob/main/Sofia2023_Examples.ipynb\" target=\"_parent\"><img src=\"https://colab.research.google.com/assets/colab-badge.svg\" alt=\"Open In Colab\"/></a>"
      ]
    },
    {
      "cell_type": "markdown",
      "source": [
        "Following initialization using the previous notebook (Sofia2023_Setup - you must do this first!), this is the primary notebook for the class.  After some startup exercises, the notebook proceeds through the examples, which contain LAMMPS scripts in increasing levels of complexity.\n",
        "\n",
        "For this notebook, go ahead and run the cells under \"Preliminaries\" until you reach \"LECTURE BEGINS HERE\" after which you are encouraged to run the successive cells in parallel with the lecture.\n",
        "\n",
        "Click \"Open in Colab\" to begin."
      ],
      "metadata": {
        "id": "vSAKp_dK8u3P"
      }
    },
    {
      "cell_type": "markdown",
      "source": [
        "# Preliminaries"
      ],
      "metadata": {
        "id": "9mB85e8CVlZm"
      }
    },
    {
      "cell_type": "markdown",
      "source": [
        "Load some libraries"
      ],
      "metadata": {
        "id": "-SZiMDjdvQAy"
      }
    },
    {
      "cell_type": "code",
      "source": [
        "from IPython.display import HTML\n",
        "from IPython.display import Image\n",
        "from base64 import b64encode\n",
        "import os\n",
        "from pathlib import Path"
      ],
      "metadata": {
        "id": "YH3MmIFRqumR"
      },
      "execution_count": null,
      "outputs": []
    },
    {
      "cell_type": "markdown",
      "source": [
        "loads a linux xterm"
      ],
      "metadata": {
        "id": "HqboiyGJg24r"
      }
    },
    {
      "cell_type": "code",
      "source": [
        "!pip install colab-xterm\n",
        "%load_ext colabxterm"
      ],
      "metadata": {
        "id": "cjomGV4Ngxfd"
      },
      "execution_count": null,
      "outputs": []
    },
    {
      "cell_type": "markdown",
      "source": [
        "This does not work in all cases, but at any time you wish to try it, run the following cell (remove the '#' to uncomment the command):"
      ],
      "metadata": {
        "id": "u19a2annhZKE"
      }
    },
    {
      "cell_type": "code",
      "source": [
        "#%xterm"
      ],
      "metadata": {
        "id": "eXXP2IEuhPx9"
      },
      "execution_count": null,
      "outputs": []
    },
    {
      "cell_type": "markdown",
      "source": [
        "mount your Google Drive containing the LAMMPS application and the LAMMPS scripts (assumes you have run the initialization notebook!)"
      ],
      "metadata": {
        "id": "OOPJ-NvzacWv"
      }
    },
    {
      "cell_type": "code",
      "source": [
        "from google.colab import drive\n",
        "drive.mount('/content/drive')"
      ],
      "metadata": {
        "id": "pPNDb85lXltf"
      },
      "execution_count": null,
      "outputs": []
    },
    {
      "cell_type": "markdown",
      "source": [
        "update the LAMMPS scripts"
      ],
      "metadata": {
        "id": "VXi4RY6OZn79"
      }
    },
    {
      "cell_type": "code",
      "source": [
        "%cd /content/drive/MyDrive/Chrom2023\n",
        "!git pull"
      ],
      "metadata": {
        "id": "6CCVH1HbWcGD"
      },
      "execution_count": null,
      "outputs": []
    },
    {
      "cell_type": "code",
      "source": [
        "!echo $PATH"
      ],
      "metadata": {
        "id": "RPQwKdJyOPDG"
      },
      "execution_count": null,
      "outputs": []
    },
    {
      "cell_type": "markdown",
      "source": [
        "expand the path environment to include lmp"
      ],
      "metadata": {
        "id": "MLwHJ_VvvcBE"
      }
    },
    {
      "cell_type": "code",
      "execution_count": null,
      "metadata": {
        "id": "Y4KHgMsXqqmc"
      },
      "outputs": [],
      "source": [
        "ORG_PATH=%env PATH\n",
        "%env PATH=$ORG_PATH:.:/content/drive/MyDrive/Chrom2023/bin\n",
        "!echo $PATH"
      ]
    },
    {
      "cell_type": "markdown",
      "source": [
        "make sure it's executable"
      ],
      "metadata": {
        "id": "NScndk9tvkCw"
      }
    },
    {
      "cell_type": "code",
      "source": [
        "%cd /content/drive/MyDrive/Chrom2023/bin\n",
        "!chmod +x lmp\n",
        "!ls -l"
      ],
      "metadata": {
        "id": "L8DW55o3sZrV"
      },
      "execution_count": null,
      "outputs": []
    },
    {
      "cell_type": "code",
      "source": [
        "#%cd /content\n",
        "#!git clone https://github.com/BKFC90/Chrom2023"
      ],
      "metadata": {
        "id": "GuZKH9gcrS6I"
      },
      "execution_count": null,
      "outputs": []
    },
    {
      "cell_type": "markdown",
      "source": [
        "**************************\n",
        "LECTURE BEGINS HERE\n",
        "**************************"
      ],
      "metadata": {
        "id": "b29q0xS7c2Jx"
      }
    },
    {
      "cell_type": "markdown",
      "source": [
        "# Examples"
      ],
      "metadata": {
        "id": "jo9Mp03SOFVa"
      }
    },
    {
      "cell_type": "markdown",
      "source": [
        "## 2-Body"
      ],
      "metadata": {
        "id": "NOfAOqLVOMt9"
      }
    },
    {
      "cell_type": "markdown",
      "source": [
        "We come to the first example; change to 2B folder"
      ],
      "metadata": {
        "id": "mhuyVl0bv52V"
      }
    },
    {
      "cell_type": "code",
      "source": [
        "%cd /content/drive/MyDrive/Chrom2023/Sofia_Scripts/2B"
      ],
      "metadata": {
        "id": "wSrnCZmQr59l"
      },
      "execution_count": null,
      "outputs": []
    },
    {
      "cell_type": "markdown",
      "source": [
        "run the LAMMPS simulator"
      ],
      "metadata": {
        "id": "EKSjCo4GwBFj"
      }
    },
    {
      "cell_type": "code",
      "source": [
        "!lmp -in in.lmp"
      ],
      "metadata": {
        "id": "XTnFBxBesAg4"
      },
      "execution_count": null,
      "outputs": []
    },
    {
      "cell_type": "markdown",
      "source": [
        "display the video"
      ],
      "metadata": {
        "id": "OpeJhe620m9R"
      }
    },
    {
      "cell_type": "code",
      "source": [
        "# display the video\n",
        "mp4 = open('movie.mp4','rb').read()\n",
        "data_url = \"data:video/mp4;base64,\" + b64encode(mp4).decode()\n",
        "HTML(\"\"\"\n",
        "<video width=400 controls>\n",
        "      <source src=\"%s\" type=\"video/mp4\">\n",
        "</video>\n",
        "\"\"\" % data_url)"
      ],
      "metadata": {
        "id": "su4Dzp2W087l"
      },
      "execution_count": null,
      "outputs": []
    },
    {
      "cell_type": "markdown",
      "source": [
        "## 3-Body"
      ],
      "metadata": {
        "id": "J5EdiKglTIHp"
      }
    },
    {
      "cell_type": "code",
      "source": [
        "%cd /content/drive/MyDrive/Chrom2023/Sofia_Scripts/3B"
      ],
      "metadata": {
        "id": "hjV-IXgh5fdq"
      },
      "execution_count": null,
      "outputs": []
    },
    {
      "cell_type": "markdown",
      "source": [
        "Ignore the 'maxval' message that turns the output to red!"
      ],
      "metadata": {
        "id": "lugUefaxihmt"
      }
    },
    {
      "cell_type": "code",
      "source": [
        "!lmp -in in.lmp"
      ],
      "metadata": {
        "id": "GfSHOrtN5fd4"
      },
      "execution_count": null,
      "outputs": []
    },
    {
      "cell_type": "code",
      "source": [
        "# display the video\n",
        "mp4 = open('movie.mp4','rb').read()\n",
        "data_url = \"data:video/mp4;base64,\" + b64encode(mp4).decode()\n",
        "HTML(\"\"\"\n",
        "<video width=400 controls>\n",
        "      <source src=\"%s\" type=\"video/mp4\">\n",
        "</video>\n",
        "\"\"\" % data_url)"
      ],
      "metadata": {
        "id": "Kt61XVIF5fd4"
      },
      "execution_count": null,
      "outputs": []
    },
    {
      "cell_type": "markdown",
      "source": [
        "Before moving to next example, double-click on the file in.lmp in the left-hand panel for 3B and edit it 'live' in the right-hand panel that appears:"
      ],
      "metadata": {
        "id": "Cw1SbgnTTU72"
      }
    },
    {
      "cell_type": "markdown",
      "source": [
        "1. Deliberately change 'units' to 'unts' or 'lj' to \"LJ\", go back and run the !lmp cell and observe the output.\n",
        "\n",
        "2. Comment out the line \"fix W all...\", go back and re-run lmp and the video."
      ],
      "metadata": {
        "id": "HEkQKmGOp1AC"
      }
    },
    {
      "cell_type": "code",
      "source": [
        "!lmp -in in.wrong.lmp"
      ],
      "metadata": {
        "id": "Khn_72PuV9cV"
      },
      "execution_count": null,
      "outputs": []
    },
    {
      "cell_type": "code",
      "source": [
        "# display the video\n",
        "mp4 = open('movie.mp4','rb').read()\n",
        "data_url = \"data:video/mp4;base64,\" + b64encode(mp4).decode()\n",
        "HTML(\"\"\"\n",
        "<video width=400 controls>\n",
        "      <source src=\"%s\" type=\"video/mp4\">\n",
        "</video>\n",
        "\"\"\" % data_url)"
      ],
      "metadata": {
        "id": "w7vJ0K-XWIVo"
      },
      "execution_count": null,
      "outputs": []
    },
    {
      "cell_type": "markdown",
      "source": [
        "## LJ1"
      ],
      "metadata": {
        "id": "sRLVu_iAOhHs"
      }
    },
    {
      "cell_type": "code",
      "source": [
        "%cd /content/drive/MyDrive/Chrom2023/Sofia_Scripts/LJ1"
      ],
      "metadata": {
        "id": "DWwgILQpUZkK"
      },
      "execution_count": null,
      "outputs": []
    },
    {
      "cell_type": "code",
      "source": [
        "!lmp -in in.lmp"
      ],
      "metadata": {
        "id": "KJ2sYz_kUqqB"
      },
      "execution_count": null,
      "outputs": []
    },
    {
      "cell_type": "code",
      "source": [
        "save_path = \"/content/drive/MyDrive/Chrom2023/Sofia_Scripts/LJ1/movie.mp4\"\n",
        "compressed_path = \"/content/drive/MyDrive/Chrom2023/Sofia_Scripts/LJ1/result_compressed.mp4\"\n",
        "os.system(f\"ffmpeg -i {save_path} -vcodec libx264 {compressed_path}\")\n",
        "mp4 = open(compressed_path,'rb').read()\n",
        "data_url = \"data:video/mp4;base64,\" + b64encode(mp4).decode()\n",
        "HTML(\"\"\"\n",
        "<video width=400 controls>\n",
        "      <source src=\"%s\" type=\"video/mp4\">\n",
        "</video>\n",
        "\"\"\" % data_url)"
      ],
      "metadata": {
        "id": "1LgtNirvUzpp"
      },
      "execution_count": null,
      "outputs": []
    },
    {
      "cell_type": "markdown",
      "source": [
        "## LJ2"
      ],
      "metadata": {
        "id": "bsEQiez7i8c1"
      }
    },
    {
      "cell_type": "code",
      "source": [
        "%cd /content/drive/MyDrive/Chrom2023/Sofia_Scripts/LJ2"
      ],
      "metadata": {
        "id": "MVQESw6sUZy6"
      },
      "execution_count": null,
      "outputs": []
    },
    {
      "cell_type": "code",
      "source": [
        "!lmp -in in_75.lmp"
      ],
      "metadata": {
        "id": "P8TPzokYUtVo"
      },
      "execution_count": null,
      "outputs": []
    },
    {
      "cell_type": "code",
      "source": [
        "# display the video\n",
        "mp4 = open('movie.mp4','rb').read()\n",
        "data_url = \"data:video/mp4;base64,\" + b64encode(mp4).decode()\n",
        "HTML(\"\"\"\n",
        "<video width=400 controls>\n",
        "      <source src=\"%s\" type=\"video/mp4\">\n",
        "</video>\n",
        "\"\"\" % data_url)"
      ],
      "metadata": {
        "id": "nzICjXX1VHxc"
      },
      "execution_count": null,
      "outputs": []
    },
    {
      "cell_type": "code",
      "source": [
        "Image('g_75.jpg')"
      ],
      "metadata": {
        "id": "1leIvmH65qim"
      },
      "execution_count": null,
      "outputs": []
    },
    {
      "cell_type": "code",
      "source": [
        "Image('g_150.jpg')"
      ],
      "metadata": {
        "id": "zwX4DO9AY6qL"
      },
      "execution_count": null,
      "outputs": []
    },
    {
      "cell_type": "code",
      "source": [
        "from google.colab import drive\n",
        "drive.mount('/content/drive')"
      ],
      "metadata": {
        "id": "l793wy_qLL7Y"
      },
      "execution_count": null,
      "outputs": []
    },
    {
      "cell_type": "markdown",
      "source": [
        "## Poly1"
      ],
      "metadata": {
        "id": "vifVlZLkjC_l"
      }
    },
    {
      "cell_type": "code",
      "source": [
        "%cd /content/drive/MyDrive/Chrom2023/Sofia_Scripts/Poly1"
      ],
      "metadata": {
        "id": "2sFMTgaVX9WC"
      },
      "execution_count": null,
      "outputs": []
    },
    {
      "cell_type": "code",
      "source": [
        "!lmp -in in.lmp"
      ],
      "metadata": {
        "id": "V1v7CHGZ2-HM"
      },
      "execution_count": null,
      "outputs": []
    },
    {
      "cell_type": "code",
      "source": [
        "# display the video\n",
        "mp4 = open('movie.mp4','rb').read()\n",
        "data_url = \"data:video/mp4;base64,\" + b64encode(mp4).decode()\n",
        "HTML(\"\"\"\n",
        "<video width=400 controls>\n",
        "      <source src=\"%s\" type=\"video/mp4\">\n",
        "</video>\n",
        "\"\"\" % data_url)"
      ],
      "metadata": {
        "id": "DdrQyBk33CcR"
      },
      "execution_count": null,
      "outputs": []
    },
    {
      "cell_type": "markdown",
      "source": [
        "## Poly2"
      ],
      "metadata": {
        "id": "o_uZgltgjLXE"
      }
    },
    {
      "cell_type": "code",
      "source": [
        "%cd /content/drive/MyDrive/Chrom2023/Sofia_Scripts/Poly2"
      ],
      "metadata": {
        "id": "FmlTdOdo-J9A"
      },
      "execution_count": null,
      "outputs": []
    },
    {
      "cell_type": "code",
      "source": [
        "!lmp -in in.lmp"
      ],
      "metadata": {
        "id": "-A7ytCVaPAM5"
      },
      "execution_count": null,
      "outputs": []
    },
    {
      "cell_type": "code",
      "source": [
        "# display the video\n",
        "mp4 = open('movie.mp4','rb').read()\n",
        "data_url = \"data:video/mp4;base64,\" + b64encode(mp4).decode()\n",
        "HTML(\"\"\"\n",
        "<video width=400 controls>\n",
        "      <source src=\"%s\" type=\"video/mp4\">\n",
        "</video>\n",
        "\"\"\" % data_url)"
      ],
      "metadata": {
        "id": "kXWG0vF-Vrfa"
      },
      "execution_count": null,
      "outputs": []
    },
    {
      "cell_type": "markdown",
      "source": [
        "show a slow motion video of early times"
      ],
      "metadata": {
        "id": "bysCbd3y1vlC"
      }
    },
    {
      "cell_type": "code",
      "source": [
        "# display the video\n",
        "mp4 = open('movie-slow.mp4','rb').read()\n",
        "data_url = \"data:video/mp4;base64,\" + b64encode(mp4).decode()\n",
        "HTML(\"\"\"\n",
        "<video width=400 controls>\n",
        "      <source src=\"%s\" type=\"video/mp4\">\n",
        "</video>\n",
        "\"\"\" % data_url)"
      ],
      "metadata": {
        "id": "7AXnElLQ1psD"
      },
      "execution_count": null,
      "outputs": []
    },
    {
      "cell_type": "markdown",
      "source": [
        "image at t = 0"
      ],
      "metadata": {
        "id": "iBwIDHrTcIWV"
      }
    },
    {
      "cell_type": "code",
      "source": [
        "Image('0.jpg')"
      ],
      "metadata": {
        "id": "wXdkAQlZbwlL"
      },
      "execution_count": null,
      "outputs": []
    },
    {
      "cell_type": "markdown",
      "source": [
        "image at finish"
      ],
      "metadata": {
        "id": "_zugBW2JcOMr"
      }
    },
    {
      "cell_type": "code",
      "source": [
        "Image('5000.jpg')"
      ],
      "metadata": {
        "id": "oktzatS1b--5"
      },
      "execution_count": null,
      "outputs": []
    },
    {
      "cell_type": "markdown",
      "source": [
        "## Chrom1"
      ],
      "metadata": {
        "id": "K4k_HxDGjclk"
      }
    },
    {
      "cell_type": "code",
      "source": [
        "%cd /content/drive/MyDrive/Chrom2023/Sofia_Scripts/Chrom1"
      ],
      "metadata": {
        "id": "kMOKE24QHPZw"
      },
      "execution_count": null,
      "outputs": []
    },
    {
      "cell_type": "markdown",
      "source": [
        "Note that the command passes a variable to LAMMPS, in this case the output of a call to the bash environment variable RANDOM, which will be different each time it is called."
      ],
      "metadata": {
        "id": "Gv6zxx8DjlzI"
      }
    },
    {
      "cell_type": "code",
      "source": [
        "!lmp -v langseed `echo $RANDOM` -in in.lmp"
      ],
      "metadata": {
        "id": "8OHurlJBHY_D"
      },
      "execution_count": null,
      "outputs": []
    },
    {
      "cell_type": "code",
      "source": [
        "# display the video\n",
        "mp4 = open('movie.mp4','rb').read()\n",
        "data_url = \"data:video/mp4;base64,\" + b64encode(mp4).decode()\n",
        "HTML(\"\"\"\n",
        "<video width=400 controls>\n",
        "      <source src=\"%s\" type=\"video/mp4\">\n",
        "</video>\n",
        "\"\"\" % data_url)"
      ],
      "metadata": {
        "id": "cbX15ailTSxt"
      },
      "execution_count": null,
      "outputs": []
    },
    {
      "cell_type": "markdown",
      "source": [
        "## Wrap-up"
      ],
      "metadata": {
        "id": "HiYLb-QHO0GK"
      }
    },
    {
      "cell_type": "markdown",
      "source": [
        "If you'd like to save these examples to your local Downloads folder, uncomment all the lines in the next cell and run it."
      ],
      "metadata": {
        "id": "FWH-P1yLJooC"
      }
    },
    {
      "cell_type": "code",
      "source": [
        "#%cd /content/drive/MyDrive/Chrom2023/Sofia_Scripts\n",
        "#!tar zcvf all.tgz Sofia_Scripts\n",
        "#from google.colab import files\n",
        "#files.download(\"all.tgz\")\n",
        "#!rm all.tgz"
      ],
      "metadata": {
        "id": "GejoehrW8EA2"
      },
      "execution_count": null,
      "outputs": []
    },
    {
      "cell_type": "markdown",
      "source": [
        "Or at any time you can download individual files from your Google Drive..."
      ],
      "metadata": {
        "id": "CtUbFwhXO9i5"
      }
    }
  ]
}
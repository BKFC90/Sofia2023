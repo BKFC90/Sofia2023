{
  "nbformat": 4,
  "nbformat_minor": 0,
  "metadata": {
    "colab": {
      "provenance": [],
      "include_colab_link": true
    },
    "kernelspec": {
      "name": "python3",
      "display_name": "Python 3"
    },
    "language_info": {
      "name": "python"
    }
  },
  "cells": [
    {
      "cell_type": "markdown",
      "metadata": {
        "id": "view-in-github",
        "colab_type": "text"
      },
      "source": [
        "<a href=\"https://colab.research.google.com/github/BKFC90/Sofia2023/blob/main/Sofia2023_Examples.ipynb\" target=\"_parent\"><img src=\"https://colab.research.google.com/assets/colab-badge.svg\" alt=\"Open In Colab\"/></a>"
      ]
    },
    {
      "cell_type": "markdown",
      "source": [
        "Following initialization using the previous notebook (Sofia2023_Setup), this is the primary notebook for the class.  After some startup exercises, the notebook proceeds through the examples, which contain LAMMPS scripts in increasing levels of complexity.\n",
        "\n",
        "For this notebook, you are encouraged to run the successive cells in parallel with the lecture."
      ],
      "metadata": {
        "id": "vSAKp_dK8u3P"
      }
    },
    {
      "cell_type": "markdown",
      "source": [
        "Load some libraries"
      ],
      "metadata": {
        "id": "-SZiMDjdvQAy"
      }
    },
    {
      "cell_type": "code",
      "source": [
        "from IPython.display import HTML\n",
        "from IPython.display import Image\n",
        "from base64 import b64encode\n",
        "import os\n",
        "from pathlib import Path"
      ],
      "metadata": {
        "id": "YH3MmIFRqumR"
      },
      "execution_count": 1,
      "outputs": []
    },
    {
      "cell_type": "markdown",
      "source": [
        "loads a linux xterm"
      ],
      "metadata": {
        "id": "HqboiyGJg24r"
      }
    },
    {
      "cell_type": "code",
      "source": [
        "!pip install colab-xterm\n",
        "%load_ext colabxterm"
      ],
      "metadata": {
        "id": "cjomGV4Ngxfd",
        "outputId": "b76f93ac-d681-456d-97d0-f246df752b3b",
        "colab": {
          "base_uri": "https://localhost:8080/"
        }
      },
      "execution_count": 2,
      "outputs": [
        {
          "output_type": "stream",
          "name": "stdout",
          "text": [
            "Looking in indexes: https://pypi.org/simple, https://us-python.pkg.dev/colab-wheels/public/simple/\n",
            "Collecting colab-xterm\n",
            "  Downloading colab_xterm-0.1.2-py3-none-any.whl (115 kB)\n",
            "\u001b[2K     \u001b[90m━━━━━━━━━━━━━━━━━━━━━━━━━━━━━━━━━━━━━━━\u001b[0m \u001b[32m115.3/115.3 kB\u001b[0m \u001b[31m3.9 MB/s\u001b[0m eta \u001b[36m0:00:00\u001b[0m\n",
            "\u001b[?25hRequirement already satisfied: ptyprocess~=0.7.0 in /usr/local/lib/python3.10/dist-packages (from colab-xterm) (0.7.0)\n",
            "Requirement already satisfied: tornado>5.1 in /usr/local/lib/python3.10/dist-packages (from colab-xterm) (6.3.1)\n",
            "Installing collected packages: colab-xterm\n",
            "Successfully installed colab-xterm-0.1.2\n"
          ]
        }
      ]
    },
    {
      "cell_type": "markdown",
      "source": [
        "This does not work in all cases, but at any time you wish to use it, run the following cell (uncomment the command):"
      ],
      "metadata": {
        "id": "u19a2annhZKE"
      }
    },
    {
      "cell_type": "code",
      "source": [
        "#%xterm"
      ],
      "metadata": {
        "id": "eXXP2IEuhPx9"
      },
      "execution_count": null,
      "outputs": []
    },
    {
      "cell_type": "markdown",
      "source": [
        "mount your Google Drive containing the LAMMPS application and the LAMMPS scripts (assumes you have run the initialization notebook!)"
      ],
      "metadata": {
        "id": "OOPJ-NvzacWv"
      }
    },
    {
      "cell_type": "code",
      "source": [
        "from google.colab import drive\n",
        "drive.flush_and_unmount\n",
        "drive.mount('/content/drive')"
      ],
      "metadata": {
        "id": "pPNDb85lXltf",
        "outputId": "9786eb45-6cfb-4889-a194-10e6c1cddb21",
        "colab": {
          "base_uri": "https://localhost:8080/"
        }
      },
      "execution_count": 3,
      "outputs": [
        {
          "output_type": "stream",
          "name": "stdout",
          "text": [
            "Mounted at /content/drive\n"
          ]
        }
      ]
    },
    {
      "cell_type": "markdown",
      "source": [
        "update the LAMMPS scripts"
      ],
      "metadata": {
        "id": "VXi4RY6OZn79"
      }
    },
    {
      "cell_type": "code",
      "source": [
        "%cd /content/drive/MyDrive/Chrom2023\n",
        "!git pull"
      ],
      "metadata": {
        "id": "6CCVH1HbWcGD",
        "outputId": "bc0b245e-120e-4180-c9c2-6b5af0541342",
        "colab": {
          "base_uri": "https://localhost:8080/"
        }
      },
      "execution_count": 23,
      "outputs": [
        {
          "output_type": "stream",
          "name": "stdout",
          "text": [
            "/content/drive/MyDrive/Chrom2023\n",
            "remote: Enumerating objects: 40, done.\u001b[K\n",
            "remote: Counting objects: 100% (40/40), done.\u001b[K\n",
            "remote: Compressing objects: 100% (31/31), done.\u001b[K\n",
            "remote: Total 35 (delta 4), reused 30 (delta 1), pack-reused 0\u001b[K\n",
            "Unpacking objects: 100% (35/35), 6.24 MiB | 6.03 MiB/s, done.\n",
            "From https://github.com/BKFC90/Chrom2023\n",
            "   884108a..56f5648  main       -> origin/main\n",
            "Updating 6b77821..56f5648\n",
            "Fast-forward\n",
            " Sofia_Examples/NIT/nit                             |    0\n",
            " Sofia_Examples/Poly1/in.lmp                        |   59 \u001b[31m-\u001b[m\n",
            " Sofia_Examples/Poly1/interactions                  |   21 \u001b[31m-\u001b[m\n",
            " Sofia_Examples/Poly1/poly.init                     | 1511 \u001b[31m--------------------\u001b[m\n",
            " Sofia_Examples/Poly2/ConfigPoly.dat                |   10 \u001b[31m-\u001b[m\n",
            " Sofia_Examples/Poly3/Makefile                      |   15 \u001b[31m-\u001b[m\n",
            " {Sofia_Examples => Sofia_Scripts}/2B/2b.init       |   13 \u001b[32m+\u001b[m\u001b[31m-\u001b[m\n",
            " {Sofia_Examples => Sofia_Scripts}/2B/Makefile      |    0\n",
            " {Sofia_Examples => Sofia_Scripts}/2B/in.lmp        |   35 \u001b[32m+\u001b[m\u001b[31m-\u001b[m\n",
            " {Sofia_Examples => Sofia_Scripts}/3B/3b.init       |    0\n",
            " {Sofia_Examples => Sofia_Scripts}/3B/Makefile      |    0\n",
            " {Sofia_Examples => Sofia_Scripts}/3B/in.lmp        |   10 \u001b[31m-\u001b[m\n",
            " {Sofia_Examples => Sofia_Scripts}/3B/in.wrong.lmp  |    0\n",
            " .../Chrom1/Bconfig.dat                             |    0\n",
            " {Sofia_Examples => Sofia_Scripts}/Chrom1/Body      |    0\n",
            " .../Chrom1/ConfigChrom.dat                         |    0\n",
            " {Sofia_Examples => Sofia_Scripts}/Chrom1/Header    |    0\n",
            " {Sofia_Examples => Sofia_Scripts}/Chrom1/Makefile  |    0\n",
            " .../Chrom1/chrom.init                              |    0\n",
            " {Sofia_Examples => Sofia_Scripts}/Chrom1/in.lmp    |    0\n",
            " .../Chrom1/interactions                            |    0\n",
            " .../Chrom1/softinteractions                        |    0\n",
            " {Sofia_Examples => Sofia_Scripts}/Chrom1/variables |    0\n",
            " {Sofia_Examples => Sofia_Scripts}/LJ1/Makefile     |    0\n",
            " {Sofia_Examples => Sofia_Scripts}/LJ1/in.lmp       |    0\n",
            " Sofia_Scripts/LJ1/in.lmp.0                         |   24 \u001b[32m+\u001b[m\n",
            " Sofia_Scripts/LJ2/0.jpg                            |  Bin \u001b[31m0\u001b[m -> \u001b[32m208327\u001b[m bytes\n",
            " Sofia_Scripts/LJ2/100000.jpg                       |  Bin \u001b[31m0\u001b[m -> \u001b[32m189511\u001b[m bytes\n",
            " Sofia_Scripts/LJ2/200000.jpg                       |  Bin \u001b[31m0\u001b[m -> \u001b[32m190057\u001b[m bytes\n",
            " Sofia_Scripts/LJ2/300000.jpg                       |  Bin \u001b[31m0\u001b[m -> \u001b[32m188319\u001b[m bytes\n",
            " Sofia_Scripts/LJ2/400000.jpg                       |  Bin \u001b[31m0\u001b[m -> \u001b[32m187644\u001b[m bytes\n",
            " Sofia_Scripts/LJ2/500000.jpg                       |  Bin \u001b[31m0\u001b[m -> \u001b[32m192590\u001b[m bytes\n",
            " {Sofia_Examples => Sofia_Scripts}/LJ2/Makefile     |    0\n",
            " Sofia_Scripts/LJ2/g.dat                            |  609 \u001b[32m++++++++\u001b[m\n",
            " Sofia_Scripts/LJ2/g2.dat                           |  100 \u001b[32m++\u001b[m\n",
            " Sofia_Scripts/LJ2/g_75.dat                         |  100 \u001b[32m++\u001b[m\n",
            " Sofia_Scripts/LJ2/g_r.jpg                          |  Bin \u001b[31m0\u001b[m -> \u001b[32m88595\u001b[m bytes\n",
            " Sofia_Scripts/LJ2/in.lmp                           |   69 \u001b[32m+\u001b[m\n",
            " .../LJ2/in.lmp => Sofia_Scripts/LJ2/in.lmp~        |    8 \u001b[32m+\u001b[m\u001b[31m-\u001b[m\n",
            " Sofia_Scripts/LJ2/log.lammps                       |  178 \u001b[32m+++\u001b[m\n",
            " Sofia_Scripts/LJ2/movie.mp4                        |  Bin \u001b[31m0\u001b[m -> \u001b[32m5395985\u001b[m bytes\n",
            " .../Poly1/ConfigPoly.dat                           |    0\n",
            " {Sofia_Examples => Sofia_Scripts}/Poly1/Makefile   |    0\n",
            " .../Poly2 => Sofia_Scripts/Poly1}/in.lmp           |    0\n",
            " .../Poly2 => Sofia_Scripts/Poly1}/interactions     |    0\n",
            " .../Poly2 => Sofia_Scripts/Poly1}/poly.init        |    0\n",
            " .../Poly3 => Sofia_Scripts/Poly2}/ConfigPoly.dat   |    0\n",
            " {Sofia_Examples => Sofia_Scripts}/Poly2/Makefile   |    0\n",
            " .../Poly3 => Sofia_Scripts/Poly2}/in.lmp           |    0\n",
            " .../Poly3 => Sofia_Scripts/Poly2}/interactions     |    0\n",
            " .../Poly3 => Sofia_Scripts/Poly2}/poly.init        |    0\n",
            " .../Poly3 => Sofia_Scripts/Poly2}/softinteractions |    0\n",
            " .../src/ChromInit_2.0.cc                           |    0\n",
            " {Sofia_Examples => Sofia_Scripts}/src/Makefile     |    0\n",
            " .../src/PolyInit_1.0.cc                            |    0\n",
            " .../src/bond_fene.cpp.dif                          |    0\n",
            " 56 files changed, 1098 insertions(+), 1664 deletions(-)\n",
            " delete mode 100644 Sofia_Examples/NIT/nit\n",
            " delete mode 100644 Sofia_Examples/Poly1/in.lmp\n",
            " delete mode 100644 Sofia_Examples/Poly1/interactions\n",
            " delete mode 100644 Sofia_Examples/Poly1/poly.init\n",
            " delete mode 100644 Sofia_Examples/Poly2/ConfigPoly.dat\n",
            " delete mode 100644 Sofia_Examples/Poly3/Makefile\n",
            " rename {Sofia_Examples => Sofia_Scripts}/2B/2b.init (92%)\n",
            " rename {Sofia_Examples => Sofia_Scripts}/2B/Makefile (100%)\n",
            " rename {Sofia_Examples => Sofia_Scripts}/2B/in.lmp (74%)\n",
            " rename {Sofia_Examples => Sofia_Scripts}/3B/3b.init (100%)\n",
            " rename {Sofia_Examples => Sofia_Scripts}/3B/Makefile (100%)\n",
            " rename {Sofia_Examples => Sofia_Scripts}/3B/in.lmp (81%)\n",
            " rename {Sofia_Examples => Sofia_Scripts}/3B/in.wrong.lmp (100%)\n",
            " rename {Sofia_Examples => Sofia_Scripts}/Chrom1/Bconfig.dat (100%)\n",
            " rename {Sofia_Examples => Sofia_Scripts}/Chrom1/Body (100%)\n",
            " rename {Sofia_Examples => Sofia_Scripts}/Chrom1/ConfigChrom.dat (100%)\n",
            " rename {Sofia_Examples => Sofia_Scripts}/Chrom1/Header (100%)\n",
            " rename {Sofia_Examples => Sofia_Scripts}/Chrom1/Makefile (100%)\n",
            " rename {Sofia_Examples => Sofia_Scripts}/Chrom1/chrom.init (100%)\n",
            " rename {Sofia_Examples => Sofia_Scripts}/Chrom1/in.lmp (100%)\n",
            " rename {Sofia_Examples => Sofia_Scripts}/Chrom1/interactions (100%)\n",
            " rename {Sofia_Examples => Sofia_Scripts}/Chrom1/softinteractions (100%)\n",
            " rename {Sofia_Examples => Sofia_Scripts}/Chrom1/variables (100%)\n",
            " rename {Sofia_Examples => Sofia_Scripts}/LJ1/Makefile (100%)\n",
            " rename {Sofia_Examples => Sofia_Scripts}/LJ1/in.lmp (100%)\n",
            " create mode 100644 Sofia_Scripts/LJ1/in.lmp.0\n",
            " create mode 100644 Sofia_Scripts/LJ2/0.jpg\n",
            " create mode 100644 Sofia_Scripts/LJ2/100000.jpg\n",
            " create mode 100644 Sofia_Scripts/LJ2/200000.jpg\n",
            " create mode 100644 Sofia_Scripts/LJ2/300000.jpg\n",
            " create mode 100644 Sofia_Scripts/LJ2/400000.jpg\n",
            " create mode 100644 Sofia_Scripts/LJ2/500000.jpg\n",
            " rename {Sofia_Examples => Sofia_Scripts}/LJ2/Makefile (100%)\n",
            " create mode 100644 Sofia_Scripts/LJ2/g.dat\n",
            " create mode 100644 Sofia_Scripts/LJ2/g2.dat\n",
            " create mode 100644 Sofia_Scripts/LJ2/g_75.dat\n",
            " create mode 100644 Sofia_Scripts/LJ2/g_r.jpg\n",
            " create mode 100644 Sofia_Scripts/LJ2/in.lmp\n",
            " rename Sofia_Examples/LJ2/in.lmp => Sofia_Scripts/LJ2/in.lmp~ (90%)\n",
            " create mode 100644 Sofia_Scripts/LJ2/log.lammps\n",
            " create mode 100644 Sofia_Scripts/LJ2/movie.mp4\n",
            " rename {Sofia_Examples => Sofia_Scripts}/Poly1/ConfigPoly.dat (100%)\n",
            " rename {Sofia_Examples => Sofia_Scripts}/Poly1/Makefile (100%)\n",
            " rename {Sofia_Examples/Poly2 => Sofia_Scripts/Poly1}/in.lmp (100%)\n",
            " rename {Sofia_Examples/Poly2 => Sofia_Scripts/Poly1}/interactions (100%)\n",
            " rename {Sofia_Examples/Poly2 => Sofia_Scripts/Poly1}/poly.init (100%)\n",
            " rename {Sofia_Examples/Poly3 => Sofia_Scripts/Poly2}/ConfigPoly.dat (100%)\n",
            " rename {Sofia_Examples => Sofia_Scripts}/Poly2/Makefile (100%)\n",
            " rename {Sofia_Examples/Poly3 => Sofia_Scripts/Poly2}/in.lmp (100%)\n",
            " rename {Sofia_Examples/Poly3 => Sofia_Scripts/Poly2}/interactions (100%)\n",
            " rename {Sofia_Examples/Poly3 => Sofia_Scripts/Poly2}/poly.init (100%)\n",
            " rename {Sofia_Examples/Poly3 => Sofia_Scripts/Poly2}/softinteractions (100%)\n",
            " rename {Sofia_Examples => Sofia_Scripts}/src/ChromInit_2.0.cc (100%)\n",
            " rename {Sofia_Examples => Sofia_Scripts}/src/Makefile (100%)\n",
            " rename {Sofia_Examples => Sofia_Scripts}/src/PolyInit_1.0.cc (100%)\n",
            " rename {Sofia_Examples => Sofia_Scripts}/src/bond_fene.cpp.dif (100%)\n"
          ]
        }
      ]
    },
    {
      "cell_type": "code",
      "source": [
        "%cd /content/drive/MyDrive/Chrom2023\n",
        "!ls "
      ],
      "metadata": {
        "id": "l5gF3ZsIhsnZ",
        "outputId": "b828803c-933d-4085-957e-98b7d40dc02c",
        "colab": {
          "base_uri": "https://localhost:8080/"
        }
      },
      "execution_count": 30,
      "outputs": [
        {
          "output_type": "stream",
          "name": "stdout",
          "text": [
            "/content/drive/MyDrive/Chrom2023\n",
            "bin  Nit  Sofia_Examples  Sofia_Scripts\n"
          ]
        }
      ]
    },
    {
      "cell_type": "code",
      "source": [
        "!echo $PATH"
      ],
      "metadata": {
        "id": "RPQwKdJyOPDG",
        "outputId": "a15fd192-6821-4913-93fd-ecba5e8ac6bc",
        "colab": {
          "base_uri": "https://localhost:8080/"
        }
      },
      "execution_count": 25,
      "outputs": [
        {
          "output_type": "stream",
          "name": "stdout",
          "text": [
            "/opt/bin:/usr/local/nvidia/bin:/usr/local/cuda/bin:/usr/local/sbin:/usr/local/bin:/usr/sbin:/usr/bin:/sbin:/bin:/tools/node/bin:/tools/google-cloud-sdk/bin\n"
          ]
        }
      ]
    },
    {
      "cell_type": "markdown",
      "source": [
        "expand the path environment to include lmp"
      ],
      "metadata": {
        "id": "MLwHJ_VvvcBE"
      }
    },
    {
      "cell_type": "code",
      "execution_count": 26,
      "metadata": {
        "id": "Y4KHgMsXqqmc",
        "outputId": "7f0a63ce-880a-4045-8806-a14dafb856d6",
        "colab": {
          "base_uri": "https://localhost:8080/"
        }
      },
      "outputs": [
        {
          "output_type": "stream",
          "name": "stdout",
          "text": [
            "env: PATH=/opt/bin:/usr/local/nvidia/bin:/usr/local/cuda/bin:/usr/local/sbin:/usr/local/bin:/usr/sbin:/usr/bin:/sbin:/bin:/tools/node/bin:/tools/google-cloud-sdk/bin:.:/content/drive/MyDrive/Chrom2023/bin\n",
            "/opt/bin:/usr/local/nvidia/bin:/usr/local/cuda/bin:/usr/local/sbin:/usr/local/bin:/usr/sbin:/usr/bin:/sbin:/bin:/tools/node/bin:/tools/google-cloud-sdk/bin:.:/content/drive/MyDrive/Chrom2023/bin\n"
          ]
        }
      ],
      "source": [
        "ORG_PATH=%env PATH\n",
        "%env PATH=$ORG_PATH:.:/content/drive/MyDrive/Chrom2023/bin\n",
        "!echo $PATH"
      ]
    },
    {
      "cell_type": "markdown",
      "source": [
        "make sure it's executable"
      ],
      "metadata": {
        "id": "NScndk9tvkCw"
      }
    },
    {
      "cell_type": "code",
      "source": [
        "%cd /content/drive/MyDrive/Chrom2023/bin\n",
        "!chmod +x lmp\n",
        "!ls -l"
      ],
      "metadata": {
        "id": "L8DW55o3sZrV",
        "outputId": "dc05d99f-7841-441f-f123-01498ac832b7",
        "colab": {
          "base_uri": "https://localhost:8080/"
        }
      },
      "execution_count": 27,
      "outputs": [
        {
          "output_type": "stream",
          "name": "stdout",
          "text": [
            "/content/drive/MyDrive/Chrom2023/bin\n",
            "total 106814\n",
            "-rwx------ 1 root root 109376632 May 27 16:49 lmp\n"
          ]
        }
      ]
    },
    {
      "cell_type": "code",
      "source": [
        "#%cd /content\n",
        "#!git clone https://github.com/BKFC90/Chrom2023"
      ],
      "metadata": {
        "id": "GuZKH9gcrS6I"
      },
      "execution_count": null,
      "outputs": []
    },
    {
      "cell_type": "markdown",
      "source": [
        "We come to the first example; change to 2B folder"
      ],
      "metadata": {
        "id": "mhuyVl0bv52V"
      }
    },
    {
      "cell_type": "code",
      "source": [
        "%cd /content/drive/MyDrive/Chrom2023/Sofia_Scripts/2B"
      ],
      "metadata": {
        "id": "wSrnCZmQr59l",
        "outputId": "ea68a71c-ce13-4788-941c-40bc8802a3b1",
        "colab": {
          "base_uri": "https://localhost:8080/"
        }
      },
      "execution_count": 28,
      "outputs": [
        {
          "output_type": "stream",
          "name": "stdout",
          "text": [
            "/content/drive/MyDrive/Chrom2023/Sofia_Scripts/2B\n"
          ]
        }
      ]
    },
    {
      "cell_type": "markdown",
      "source": [
        "run the LAMMPS simulator"
      ],
      "metadata": {
        "id": "EKSjCo4GwBFj"
      }
    },
    {
      "cell_type": "code",
      "source": [
        "!lmp -in in.lmp"
      ],
      "metadata": {
        "id": "XTnFBxBesAg4",
        "outputId": "fd627909-033d-4b9f-b3f8-b07138433f1c",
        "colab": {
          "base_uri": "https://localhost:8080/"
        }
      },
      "execution_count": 29,
      "outputs": [
        {
          "output_type": "stream",
          "name": "stdout",
          "text": [
            "LAMMPS (23 Jun 2022 - Update 4)\n",
            "OMP_NUM_THREADS environment is not set. Defaulting to 1 thread. (src/comm.cpp:98)\n",
            "  using 1 OpenMP thread(s) per MPI task\n",
            "Reading data file ...\n",
            "  orthogonal box = (-20 -20 -20) to (20 20 20)\n",
            "  1 by 1 by 1 MPI processor grid\n",
            "  reading atoms ...\n",
            "  2 atoms\n",
            "  reading velocities ...\n",
            "  2 velocities\n",
            "  read_data CPU = 0.008 seconds\n",
            "Generated 0 of 0 mixed pair_coeff terms from geometric mixing rule\n",
            "Neighbor list info ...\n",
            "  update every 1 steps, delay 10 steps, check yes\n",
            "  max neighbors/atom: 2000, page size: 100000\n",
            "  master list distance cutoff = 20.3\n",
            "  ghost atom cutoff = 20.3\n",
            "  binsize = 10.15, bins = 4 4 4\n",
            "  1 neighbor lists, perpetual/occasional/extra = 1 0 0\n",
            "  (1) pair yukawa, perpetual\n",
            "      attributes: half, newton on\n",
            "      pair build: half/bin/atomonly/newton\n",
            "      stencil: half/bin/3d\n",
            "      bin: standard\n",
            "Setting up Verlet run ...\n",
            "  Unit style    : lj\n",
            "  Current step  : 0\n",
            "  Time step     : 0.005\n",
            "Per MPI rank memory allocation (min/avg/max) = 3.286 | 3.286 | 3.286 Mbytes\n",
            "   Step          Temp          E_pair         E_mol          TotEng         Press     \n",
            "         0   0.66666667    -0.70705678     0             -0.20705678     3.050971e-06 \n",
            "    100000   0.32957451    -0.45423766     0             -0.20705678     4.1743859e-07\n",
            "Loop time of 7.3275 on 1 procs for 100000 steps with 2 atoms\n",
            "\n",
            "Performance: 5895599.560 tau/day, 13647.221 timesteps/s\n",
            "50.4% CPU use with 1 MPI tasks x 1 OpenMP threads\n",
            "\n",
            "MPI task timing breakdown:\n",
            "Section |  min time  |  avg time  |  max time  |%varavg| %total\n",
            "---------------------------------------------------------------\n",
            "Pair    | 0.019216   | 0.019216   | 0.019216   |   0.0 |  0.26\n",
            "Neigh   | 0.0011316  | 0.0011316  | 0.0011316  |   0.0 |  0.02\n",
            "Comm    | 0.014022   | 0.014022   | 0.014022   |   0.0 |  0.19\n",
            "Output  | 7.2346     | 7.2346     | 7.2346     |   0.0 | 98.73\n",
            "Modify  | 0.019609   | 0.019609   | 0.019609   |   0.0 |  0.27\n",
            "Other   |            | 0.03896    |            |       |  0.53\n",
            "\n",
            "Nlocal:              2 ave           2 max           2 min\n",
            "Histogram: 1 0 0 0 0 0 0 0 0 0\n",
            "Nghost:              0 ave           0 max           0 min\n",
            "Histogram: 1 0 0 0 0 0 0 0 0 0\n",
            "Neighs:              1 ave           1 max           1 min\n",
            "Histogram: 1 0 0 0 0 0 0 0 0 0\n",
            "\n",
            "Total # of neighbors = 1\n",
            "Ave neighs/atom = 0.5\n",
            "Neighbor list builds = 189\n",
            "Dangerous builds = 0\n",
            "Total wall time: 0:00:09\n"
          ]
        }
      ]
    },
    {
      "cell_type": "markdown",
      "source": [
        "display the video"
      ],
      "metadata": {
        "id": "OpeJhe620m9R"
      }
    },
    {
      "cell_type": "code",
      "source": [
        "# display the video\n",
        "mp4 = open('movie.mp4','rb').read()\n",
        "data_url = \"data:video/mp4;base64,\" + b64encode(mp4).decode()\n",
        "HTML(\"\"\"\n",
        "<video width=400 controls>\n",
        "      <source src=\"%s\" type=\"video/mp4\">\n",
        "</video>\n",
        "\"\"\" % data_url)"
      ],
      "metadata": {
        "id": "su4Dzp2W087l"
      },
      "execution_count": null,
      "outputs": []
    },
    {
      "cell_type": "markdown",
      "source": [
        "now go to next example (3body)"
      ],
      "metadata": {
        "id": "J5EdiKglTIHp"
      }
    },
    {
      "cell_type": "code",
      "source": [
        "%cd /content/drive/MyDrive/Chrom2023/Sofia_Scripts/3B"
      ],
      "metadata": {
        "id": "hjV-IXgh5fdq"
      },
      "execution_count": null,
      "outputs": []
    },
    {
      "cell_type": "markdown",
      "source": [
        "Ignore the 'maxval' message that turns the output to red!"
      ],
      "metadata": {
        "id": "lugUefaxihmt"
      }
    },
    {
      "cell_type": "code",
      "source": [
        "!lmp -in in.lmp"
      ],
      "metadata": {
        "id": "GfSHOrtN5fd4"
      },
      "execution_count": null,
      "outputs": []
    },
    {
      "cell_type": "code",
      "source": [
        "# display the video\n",
        "mp4 = open('movie.mp4','rb').read()\n",
        "data_url = \"data:video/mp4;base64,\" + b64encode(mp4).decode()\n",
        "HTML(\"\"\"\n",
        "<video width=400 controls>\n",
        "      <source src=\"%s\" type=\"video/mp4\">\n",
        "</video>\n",
        "\"\"\" % data_url)"
      ],
      "metadata": {
        "id": "Kt61XVIF5fd4"
      },
      "execution_count": null,
      "outputs": []
    },
    {
      "cell_type": "markdown",
      "source": [
        "Before moving to next example, double-click on the file in.lmp in the left-hand panel for 3B and edit it 'live' in the right-hand panel that appears:"
      ],
      "metadata": {
        "id": "Cw1SbgnTTU72"
      }
    },
    {
      "cell_type": "markdown",
      "source": [
        "1. Deliberately change 'units' to 'unts' or 'lj' to \"LJ\", go back and run the !lmp cell and observe the output.\n",
        "\n",
        "2. Comment out the line \"fix W all...\", go back and re-run lmp and the video."
      ],
      "metadata": {
        "id": "HEkQKmGOp1AC"
      }
    },
    {
      "cell_type": "code",
      "source": [
        "%cd /content/drive/MyDrive/Chrom2023/Sofia_Scripts/LJ1"
      ],
      "metadata": {
        "id": "DWwgILQpUZkK"
      },
      "execution_count": null,
      "outputs": []
    },
    {
      "cell_type": "code",
      "source": [
        "!lmp -in in.lmp"
      ],
      "metadata": {
        "id": "KJ2sYz_kUqqB"
      },
      "execution_count": null,
      "outputs": []
    },
    {
      "cell_type": "code",
      "source": [
        "save_path = \"/content/drive/MyDrive/Chrom2023/Sofia_Scripts/LJ1/movie.mp4\"\n",
        "compressed_path = \"/content/drive/MyDrive/Chrom2023/Sofia_Scripts/LJ1/result_compressed.mp4\"\n",
        "os.system(f\"ffmpeg -i {save_path} -vcodec libx264 {compressed_path}\")\n",
        "mp4 = open(compressed_path,'rb').read()\n",
        "data_url = \"data:video/mp4;base64,\" + b64encode(mp4).decode()\n",
        "HTML(\"\"\"\n",
        "<video width=400 controls>\n",
        "      <source src=\"%s\" type=\"video/mp4\">\n",
        "</video>\n",
        "\"\"\" % data_url)"
      ],
      "metadata": {
        "id": "1LgtNirvUzpp"
      },
      "execution_count": null,
      "outputs": []
    },
    {
      "cell_type": "markdown",
      "source": [
        "Example LJ2"
      ],
      "metadata": {
        "id": "bsEQiez7i8c1"
      }
    },
    {
      "cell_type": "code",
      "source": [
        "%cd /content/drive/MyDrive/Chrom2023/Sofia_Scripts/LJ2"
      ],
      "metadata": {
        "id": "MVQESw6sUZy6"
      },
      "execution_count": null,
      "outputs": []
    },
    {
      "cell_type": "code",
      "source": [
        "!lmp -in in.lmp"
      ],
      "metadata": {
        "id": "P8TPzokYUtVo"
      },
      "execution_count": null,
      "outputs": []
    },
    {
      "cell_type": "code",
      "source": [
        "# display the video\n",
        "mp4 = open('movie.mp4','rb').read()\n",
        "data_url = \"data:video/mp4;base64,\" + b64encode(mp4).decode()\n",
        "HTML(\"\"\"\n",
        "<video width=400 controls>\n",
        "      <source src=\"%s\" type=\"video/mp4\">\n",
        "</video>\n",
        "\"\"\" % data_url)"
      ],
      "metadata": {
        "id": "nzICjXX1VHxc"
      },
      "execution_count": null,
      "outputs": []
    },
    {
      "cell_type": "markdown",
      "source": [
        "Example Poly1"
      ],
      "metadata": {
        "id": "vifVlZLkjC_l"
      }
    },
    {
      "cell_type": "code",
      "source": [
        "%cd /content/drive/MyDrive/Chrom2023/Sofia_Scripts/Poly1"
      ],
      "metadata": {
        "id": "2sFMTgaVX9WC"
      },
      "execution_count": null,
      "outputs": []
    },
    {
      "cell_type": "code",
      "source": [
        "!lmp -in in.lmp"
      ],
      "metadata": {
        "id": "V1v7CHGZ2-HM"
      },
      "execution_count": null,
      "outputs": []
    },
    {
      "cell_type": "code",
      "source": [
        "# display the video\n",
        "mp4 = open('movie.mp4','rb').read()\n",
        "data_url = \"data:video/mp4;base64,\" + b64encode(mp4).decode()\n",
        "HTML(\"\"\"\n",
        "<video width=400 controls>\n",
        "      <source src=\"%s\" type=\"video/mp4\">\n",
        "</video>\n",
        "\"\"\" % data_url)"
      ],
      "metadata": {
        "id": "DdrQyBk33CcR"
      },
      "execution_count": null,
      "outputs": []
    },
    {
      "cell_type": "markdown",
      "source": [
        "Example Poly2"
      ],
      "metadata": {
        "id": "o_uZgltgjLXE"
      }
    },
    {
      "cell_type": "code",
      "source": [
        "%cd /content/drive/MyDrive/Chrom2023/Sofia_Scripts/Poly2"
      ],
      "metadata": {
        "id": "C9Jyp_paVYYe"
      },
      "execution_count": null,
      "outputs": []
    },
    {
      "cell_type": "code",
      "source": [
        "!lmp -in in.lmp"
      ],
      "metadata": {
        "id": "h_vcgg00VcF-"
      },
      "execution_count": null,
      "outputs": []
    },
    {
      "cell_type": "code",
      "source": [
        "# display the video\n",
        "mp4 = open('movie.mp4','rb').read()\n",
        "data_url = \"data:video/mp4;base64,\" + b64encode(mp4).decode()\n",
        "HTML(\"\"\"\n",
        "<video width=400 controls>\n",
        "      <source src=\"%s\" type=\"video/mp4\">\n",
        "</video>\n",
        "\"\"\" % data_url)"
      ],
      "metadata": {
        "id": "WS7qMLpKVglB"
      },
      "execution_count": null,
      "outputs": []
    },
    {
      "cell_type": "markdown",
      "source": [
        "Example Poly3"
      ],
      "metadata": {
        "id": "zfhS2Dw_jQp1"
      }
    },
    {
      "cell_type": "code",
      "source": [
        "%cd /content/drive/MyDrive/Chrom2023/Sofia_Scripts/Poly3"
      ],
      "metadata": {
        "id": "FmlTdOdo-J9A"
      },
      "execution_count": null,
      "outputs": []
    },
    {
      "cell_type": "code",
      "source": [
        "!lmp -in in.lmp"
      ],
      "metadata": {
        "id": "-A7ytCVaPAM5"
      },
      "execution_count": null,
      "outputs": []
    },
    {
      "cell_type": "code",
      "source": [
        "# display the video\n",
        "mp4 = open('movie.mp4','rb').read()\n",
        "data_url = \"data:video/mp4;base64,\" + b64encode(mp4).decode()\n",
        "HTML(\"\"\"\n",
        "<video width=400 controls>\n",
        "      <source src=\"%s\" type=\"video/mp4\">\n",
        "</video>\n",
        "\"\"\" % data_url)"
      ],
      "metadata": {
        "id": "kXWG0vF-Vrfa"
      },
      "execution_count": null,
      "outputs": []
    },
    {
      "cell_type": "markdown",
      "source": [
        "show a slow motion video of early times"
      ],
      "metadata": {
        "id": "bysCbd3y1vlC"
      }
    },
    {
      "cell_type": "code",
      "source": [
        "# display the video\n",
        "mp4 = open('movie-slow.mp4','rb').read()\n",
        "data_url = \"data:video/mp4;base64,\" + b64encode(mp4).decode()\n",
        "HTML(\"\"\"\n",
        "<video width=400 controls>\n",
        "      <source src=\"%s\" type=\"video/mp4\">\n",
        "</video>\n",
        "\"\"\" % data_url)"
      ],
      "metadata": {
        "id": "7AXnElLQ1psD"
      },
      "execution_count": null,
      "outputs": []
    },
    {
      "cell_type": "markdown",
      "source": [
        "Example Chrom1"
      ],
      "metadata": {
        "id": "K4k_HxDGjclk"
      }
    },
    {
      "cell_type": "code",
      "source": [
        "%cd /content/drive/MyDrive/Chrom2023/Sofia_Scripts/Chrom1"
      ],
      "metadata": {
        "id": "kMOKE24QHPZw"
      },
      "execution_count": null,
      "outputs": []
    },
    {
      "cell_type": "markdown",
      "source": [
        "Note that the command passes a variable to LAMMPS, in this case the output of a call to the bash environment variable RANDOM, which will be different each time it is called."
      ],
      "metadata": {
        "id": "Gv6zxx8DjlzI"
      }
    },
    {
      "cell_type": "code",
      "source": [
        "!lmp -v langseed `echo $RANDOM` -in in.lmp"
      ],
      "metadata": {
        "id": "8OHurlJBHY_D"
      },
      "execution_count": null,
      "outputs": []
    },
    {
      "cell_type": "code",
      "source": [
        "# display the video\n",
        "mp4 = open('movie.mp4','rb').read()\n",
        "data_url = \"data:video/mp4;base64,\" + b64encode(mp4).decode()\n",
        "HTML(\"\"\"\n",
        "<video width=400 controls>\n",
        "      <source src=\"%s\" type=\"video/mp4\">\n",
        "</video>\n",
        "\"\"\" % data_url)"
      ],
      "metadata": {
        "id": "cbX15ailTSxt"
      },
      "execution_count": null,
      "outputs": []
    },
    {
      "cell_type": "markdown",
      "source": [
        "If you'd like to save these examples to your local Downloads folder, uncomment all the lines in the next cell and run it."
      ],
      "metadata": {
        "id": "FWH-P1yLJooC"
      }
    },
    {
      "cell_type": "code",
      "source": [
        "#%cd /content/drive/MyDrive/Chrom2023/Sofia_Scripts\n",
        "#!tar zcvf all.tgz Sofia_Scripts\n",
        "#from google.colab import files\n",
        "#files.download(\"all.tgz\")\n",
        "#!rm all.tgz"
      ],
      "metadata": {
        "id": "GejoehrW8EA2"
      },
      "execution_count": null,
      "outputs": []
    }
  ]
}
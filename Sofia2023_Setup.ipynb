{
  "nbformat": 4,
  "nbformat_minor": 0,
  "metadata": {
    "colab": {
      "provenance": [],
      "include_colab_link": true
    },
    "kernelspec": {
      "name": "python3",
      "display_name": "Python 3"
    },
    "language_info": {
      "name": "python"
    }
  },
  "cells": [
    {
      "cell_type": "markdown",
      "metadata": {
        "id": "view-in-github",
        "colab_type": "text"
      },
      "source": [
        "<a href=\"https://colab.research.google.com/github/BKFC90/Sofia2023/blob/main/Sofia2023_Setup.ipynb\" target=\"_parent\"><img src=\"https://colab.research.google.com/assets/colab-badge.svg\" alt=\"Open In Colab\"/></a>"
      ]
    },
    {
      "cell_type": "markdown",
      "source": [
        "If you arrived at this page by clicking the GitHub link, proceed to Google Colaboratory with this notebook by clicking the button\n",
        "\n",
        "          Open in Colab\n",
        "          \n",
        "This is the installation notebook for the class on LAMMPS.  It will\n",
        "\n",
        "*   Get the Examples folder from GitHub\n",
        "*   Get the LLAMPS source tree from GitHub\n",
        "*   Build LAMMPS\n",
        "*   Copy LAMMPS and the Examples to your Google Drive\n",
        "*   *The fastest way to complete this script is to run all cells by (1) clicking the cell button below \"Run the installation\" below, or (2) selecting Runtime->Run All in the menu above.*\n",
        "*   You can 'run' each cell individually by clicking on the circle with the arrow to the left of the cell - not required for this notebook but will be the preferred method in the second notebook.\n",
        "\n",
        "\n",
        "\n"
      ],
      "metadata": {
        "id": "4NG0HERNOLMe"
      }
    },
    {
      "cell_type": "markdown",
      "source": [
        "# Run the installation\n"
      ],
      "metadata": {
        "id": "jI4phfGp8dt-"
      }
    },
    {
      "cell_type": "markdown",
      "source": [
        "First mount your Google Drive"
      ],
      "metadata": {
        "id": "7Rf9rqtUQG49"
      }
    },
    {
      "cell_type": "code",
      "execution_count": null,
      "metadata": {
        "id": "X5XAsXh97x6v"
      },
      "outputs": [],
      "source": [
        "from google.colab import drive\n",
        "drive.mount('/content/drive/')"
      ]
    },
    {
      "cell_type": "markdown",
      "source": [
        "Get the Examples folder from GitHub"
      ],
      "metadata": {
        "id": "YbeJvWgiQNNh"
      }
    },
    {
      "cell_type": "code",
      "source": [
        "%cd /content\n",
        "!rm -rf Chrom2023\n",
        "!git clone https://github.com/BKFC90/Chrom2023"
      ],
      "metadata": {
        "id": "cGUH4XCA8K2Y"
      },
      "execution_count": null,
      "outputs": []
    },
    {
      "cell_type": "markdown",
      "source": [
        "Get the LAMMPS source tree from GitHub"
      ],
      "metadata": {
        "id": "pmjh4fMNQcaS"
      }
    },
    {
      "cell_type": "code",
      "source": [
        "%cd /content/Chrom2023/\n",
        "!rm -rf lammps\n",
        "!git clone -b stable --depth=1 https://github.com/lammps/lammps.git lammps"
      ],
      "metadata": {
        "id": "roq3VF3m8cl2"
      },
      "execution_count": null,
      "outputs": []
    },
    {
      "cell_type": "markdown",
      "source": [
        "Patch one of the LAMMPS source files to reduce the number of FENE warnings."
      ],
      "metadata": {
        "id": "JuAxKeZSQnIl"
      }
    },
    {
      "cell_type": "code",
      "source": [
        "%cd /content/Chrom2023/lammps/src/MOLECULE\n",
        "!patch bond_fene.cpp /content/Chrom2023/Sofia_Scripts/src/bond_fene.cpp.dif"
      ],
      "metadata": {
        "id": "81rD5egDLWk3"
      },
      "execution_count": null,
      "outputs": []
    },
    {
      "cell_type": "code",
      "source": [
        "%cd /content/Chrom2023/lammps"
      ],
      "metadata": {
        "id": "bda2CQ0C9P5M"
      },
      "execution_count": null,
      "outputs": []
    },
    {
      "cell_type": "markdown",
      "source": [
        "Build LAMMPS.  This can take 15 minutes or more. There will be a very long output."
      ],
      "metadata": {
        "id": "jwRKSKriQyGm"
      }
    },
    {
      "cell_type": "code",
      "source": [
        "!rm -rf build\n",
        "!mkdir build\n",
        "%cd build\n",
        "!cmake -D PKG_MOLECULE=on -D WITH_JPEG=on -D WITH_FFMPEG=on -D PKG_EXTRA-PAIR=on -D PKG_CLASS2=on ../cmake\n",
        "!make -j 2"
      ],
      "metadata": {
        "id": "8k2c19oW9P9I"
      },
      "execution_count": null,
      "outputs": []
    },
    {
      "cell_type": "markdown",
      "source": [
        "Add the LAMMPS code to the package and remove the source tree (no longer needed)."
      ],
      "metadata": {
        "id": "k4VwMWx6RVmO"
      }
    },
    {
      "cell_type": "code",
      "source": [
        "!rm -rf /content/Chrom2023/bin\n",
        "!mkdir /content/Chrom2023/bin\n",
        "!mv lmp /content/Chrom2023/bin"
      ],
      "metadata": {
        "id": "pVAoPAH398iZ"
      },
      "execution_count": null,
      "outputs": []
    },
    {
      "cell_type": "code",
      "source": [
        "!rm  -rf /content/Chrom2023/lammps"
      ],
      "metadata": {
        "id": "WzURSwleGHSv"
      },
      "execution_count": null,
      "outputs": []
    },
    {
      "cell_type": "code",
      "source": [
        "%cd /content"
      ],
      "metadata": {
        "id": "0-xwhugomn4s"
      },
      "execution_count": null,
      "outputs": []
    },
    {
      "cell_type": "markdown",
      "source": [
        "Copy the package to Google Drive."
      ],
      "metadata": {
        "id": "ml56EDEIRl-O"
      }
    },
    {
      "cell_type": "code",
      "source": [
        "!rsync -auv --delete /content/Chrom2023 /content/drive/MyDrive"
      ],
      "metadata": {
        "id": "2Hm3LnMTgu6x"
      },
      "execution_count": null,
      "outputs": []
    }
  ]
}